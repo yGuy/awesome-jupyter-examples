{
 "cells": [
  {
   "cell_type": "markdown",
   "id": "00f32019-6a7c-4128-8dff-e0545668bf24",
   "metadata": {},
   "source": [
    "# Initialize a Neo4j Database with the Marvel Cinematic Universe Data"
   ]
  },
  {
   "cell_type": "code",
   "execution_count": 3,
   "id": "ff21ddae-4f71-4131-b247-e044ebc2e203",
   "metadata": {},
   "outputs": [],
   "source": [
    "from neo4j import GraphDatabase\n"
   ]
  },
  {
   "cell_type": "code",
   "execution_count": 4,
   "id": "d61b378f-a78b-4bfa-8b46-0758b008e52a",
   "metadata": {},
   "outputs": [],
   "source": [
    "NEO4J_URI      = \"neo4j://neo4j-apoc\" \n",
    "NEO4J_USERNAME = \"neo4j\"\n",
    "NEO4J_PASSWORD = \"neo4j\""
   ]
  },
  {
   "cell_type": "code",
   "execution_count": 5,
   "id": "34442f59-0d19-4f75-9a78-68b7ba6b3ee8",
   "metadata": {},
   "outputs": [],
   "source": [
    "driver = GraphDatabase.driver(uri = NEO4J_URI, auth = (NEO4J_USERNAME, NEO4J_PASSWORD))"
   ]
  },
  {
   "cell_type": "markdown",
   "id": "aeb4870e-24a5-4f3b-9c12-4327d7e494f3",
   "metadata": {},
   "source": [
    "## Clears all the data in the DB! Careful!"
   ]
  },
  {
   "cell_type": "code",
   "execution_count": 13,
   "id": "c80cc323-5cf5-4382-a826-2abb9935e34e",
   "metadata": {},
   "outputs": [
    {
     "data": {
      "text/plain": [
       "EagerResult(records=[], summary=<neo4j._work.summary.ResultSummary object at 0x7fa3dd1d9c90>, keys=[])"
      ]
     },
     "execution_count": 13,
     "metadata": {},
     "output_type": "execute_result"
    }
   ],
   "source": [
    "query = \"\"\"\n",
    "MATCH (n) \n",
    "DETACH DELETE n\n",
    "\"\"\"\n",
    "\n",
    "driver.execute_query(query)"
   ]
  },
  {
   "cell_type": "code",
   "execution_count": 14,
   "id": "aeabd9c7-af6e-4edd-b7a6-0964467814ef",
   "metadata": {},
   "outputs": [
    {
     "data": {
      "text/plain": [
       "EagerResult(records=[], summary=<neo4j._work.summary.ResultSummary object at 0x7fa3dd1db1d0>, keys=[])"
      ]
     },
     "execution_count": 14,
     "metadata": {},
     "output_type": "execute_result"
    }
   ],
   "source": [
    "query = \"\"\"\n",
    "WITH '[{\"id\":\"h0\",\"type\":\"hero\",\"name\":\"Ant-Man\"},{\"id\":\"h1\",\"type\":\"hero\",\"name\":\"Black Panther\"},{\"id\":\"h2\",\"type\":\"hero\",\"name\":\"Black Widow\"},{\"id\":\"h3\",\"type\":\"hero\",\"name\":\"Captain America\"},{\"id\":\"h4\",\"type\":\"hero\",\"name\":\"Captain Marvel\"},{\"id\":\"h5\",\"type\":\"hero\",\"name\":\"Doctor Strange\"},{\"id\":\"h6\",\"type\":\"hero\",\"name\":\"Drax the Destroyer\"},{\"id\":\"h7\",\"type\":\"hero\",\"name\":\"Falcon\"},{\"id\":\"h8\",\"type\":\"hero\",\"name\":\"Gamora\"},{\"id\":\"h9\",\"type\":\"hero\",\"name\":\"Groot\"},{\"id\":\"h10\",\"type\":\"hero\",\"name\":\"Hawkeye\"},{\"id\":\"h11\",\"type\":\"hero\",\"name\":\"Hulk\"},{\"id\":\"h12\",\"type\":\"hero\",\"name\":\"Iron Man\"},{\"id\":\"h13\",\"type\":\"hero\",\"name\":\"Loki\"},{\"id\":\"h14\",\"type\":\"hero\",\"name\":\"Mantis\"},{\"id\":\"h15\",\"type\":\"hero\",\"name\":\"Nebula\"},{\"id\":\"h16\",\"type\":\"hero\",\"name\":\"Nick Fury\"},{\"id\":\"h17\",\"type\":\"hero\",\"name\":\"Odin\"},{\"id\":\"h18\",\"type\":\"hero\",\"name\":\"Quicksilver\"},{\"id\":\"h19\",\"type\":\"hero\",\"name\":\"Rocket Raccoon\"},{\"id\":\"h20\",\"type\":\"hero\",\"name\":\"Scarlet Witch\"},{\"id\":\"h21\",\"type\":\"hero\",\"name\":\"Spider-Man\"},{\"id\":\"h22\",\"type\":\"hero\",\"name\":\"Star-Lord\"},{\"id\":\"h23\",\"type\":\"hero\",\"name\":\"Thor\"},{\"id\":\"h24\",\"type\":\"hero\",\"name\":\"Vision\"},{\"id\":\"h25\",\"type\":\"hero\",\"name\":\"War Machine\"},{\"id\":\"h26\",\"type\":\"hero\",\"name\":\"Wasp\"},{\"id\":\"h27\",\"type\":\"hero\",\"name\":\"Winter Soldier\"},{\"id\":\"m0\",\"type\":\"movie\",\"name\":\"Ant-Man\"},{\"id\":\"m1\",\"type\":\"movie\",\"name\":\"Ant-Man and the Wasp\"},{\"id\":\"m2\",\"type\":\"movie\",\"name\":\"Avengers: Endgame\"},{\"id\":\"m3\",\"type\":\"movie\",\"name\":\"Avengers: Age of Ultron\"},{\"id\":\"m4\",\"type\":\"movie\",\"name\":\"Avengers: Infinity War\"},{\"id\":\"m5\",\"type\":\"movie\",\"name\":\"Black Panther\"},{\"id\":\"m6\",\"type\":\"movie\",\"name\":\"Captain America: Civil War\"},{\"id\":\"m7\",\"type\":\"movie\",\"name\":\"Captain America: The First Avenger\"},{\"id\":\"m8\",\"type\":\"movie\",\"name\":\"Captain America: The Winter Soldier\"},{\"id\":\"m9\",\"type\":\"movie\",\"name\":\"Captain Marvel\"},{\"id\":\"m10\",\"type\":\"movie\",\"name\":\"Doctor Strange\"},{\"id\":\"m11\",\"type\":\"movie\",\"name\":\"Guardians of the Galaxy\"},{\"id\":\"m12\",\"type\":\"movie\",\"name\":\"Guardians of the Galaxy Vol. 2\"},{\"id\":\"m13\",\"type\":\"movie\",\"name\":\"Guardians of the Galaxy Vol. 3\"},{\"id\":\"m14\",\"type\":\"movie\",\"name\":\"Iron Man\"},{\"id\":\"m15\",\"type\":\"movie\",\"name\":\"Iron Man 2\"},{\"id\":\"m16\",\"type\":\"movie\",\"name\":\"Iron Man 3\"},{\"id\":\"m17\",\"type\":\"movie\",\"name\":\"Spider-Man: Far From Home\"},{\"id\":\"m18\",\"type\":\"movie\",\"name\":\"Spider-Man: Homecoming\"},{\"id\":\"m19\",\"type\":\"movie\",\"name\":\"The Avengers\"},{\"id\":\"m20\",\"type\":\"movie\",\"name\":\"The Incredible Hulk\"},{\"id\":\"m21\",\"type\":\"movie\",\"name\":\"Thor\"},{\"id\":\"m22\",\"type\":\"movie\",\"name\":\"Thor: Ragnarok\"},{\"id\":\"m23\",\"type\":\"movie\",\"name\":\"Thor: The Dark World\"}]' AS jsonData\n",
    "\n",
    "WITH apoc.convert.fromJsonList(jsonData) AS nodes\n",
    "UNWIND nodes AS node \n",
    "WITH node\n",
    "WHERE node.type = \"hero\"\n",
    "MERGE (h:Hero {id: node.id, name: node.name}) \n",
    "\"\"\"\n",
    "\n",
    "driver.execute_query(query)"
   ]
  },
  {
   "cell_type": "code",
   "execution_count": 15,
   "id": "38e61d6a-887f-404c-b786-1693cb4b40ce",
   "metadata": {},
   "outputs": [
    {
     "data": {
      "text/plain": [
       "EagerResult(records=[], summary=<neo4j._work.summary.ResultSummary object at 0x7fa3dd1e4910>, keys=[])"
      ]
     },
     "execution_count": 15,
     "metadata": {},
     "output_type": "execute_result"
    }
   ],
   "source": [
    "query = \"\"\"\n",
    "WITH '[{\"id\":\"h0\",\"type\":\"hero\",\"name\":\"Ant-Man\"},{\"id\":\"h1\",\"type\":\"hero\",\"name\":\"Black Panther\"},{\"id\":\"h2\",\"type\":\"hero\",\"name\":\"Black Widow\"},{\"id\":\"h3\",\"type\":\"hero\",\"name\":\"Captain America\"},{\"id\":\"h4\",\"type\":\"hero\",\"name\":\"Captain Marvel\"},{\"id\":\"h5\",\"type\":\"hero\",\"name\":\"Doctor Strange\"},{\"id\":\"h6\",\"type\":\"hero\",\"name\":\"Drax the Destroyer\"},{\"id\":\"h7\",\"type\":\"hero\",\"name\":\"Falcon\"},{\"id\":\"h8\",\"type\":\"hero\",\"name\":\"Gamora\"},{\"id\":\"h9\",\"type\":\"hero\",\"name\":\"Groot\"},{\"id\":\"h10\",\"type\":\"hero\",\"name\":\"Hawkeye\"},{\"id\":\"h11\",\"type\":\"hero\",\"name\":\"Hulk\"},{\"id\":\"h12\",\"type\":\"hero\",\"name\":\"Iron Man\"},{\"id\":\"h13\",\"type\":\"hero\",\"name\":\"Loki\"},{\"id\":\"h14\",\"type\":\"hero\",\"name\":\"Mantis\"},{\"id\":\"h15\",\"type\":\"hero\",\"name\":\"Nebula\"},{\"id\":\"h16\",\"type\":\"hero\",\"name\":\"Nick Fury\"},{\"id\":\"h17\",\"type\":\"hero\",\"name\":\"Odin\"},{\"id\":\"h18\",\"type\":\"hero\",\"name\":\"Quicksilver\"},{\"id\":\"h19\",\"type\":\"hero\",\"name\":\"Rocket Raccoon\"},{\"id\":\"h20\",\"type\":\"hero\",\"name\":\"Scarlet Witch\"},{\"id\":\"h21\",\"type\":\"hero\",\"name\":\"Spider-Man\"},{\"id\":\"h22\",\"type\":\"hero\",\"name\":\"Star-Lord\"},{\"id\":\"h23\",\"type\":\"hero\",\"name\":\"Thor\"},{\"id\":\"h24\",\"type\":\"hero\",\"name\":\"Vision\"},{\"id\":\"h25\",\"type\":\"hero\",\"name\":\"War Machine\"},{\"id\":\"h26\",\"type\":\"hero\",\"name\":\"Wasp\"},{\"id\":\"h27\",\"type\":\"hero\",\"name\":\"Winter Soldier\"},{\"id\":\"m0\",\"type\":\"movie\",\"name\":\"Ant-Man\"},{\"id\":\"m1\",\"type\":\"movie\",\"name\":\"Ant-Man and the Wasp\"},{\"id\":\"m2\",\"type\":\"movie\",\"name\":\"Avengers: Endgame\"},{\"id\":\"m3\",\"type\":\"movie\",\"name\":\"Avengers: Age of Ultron\"},{\"id\":\"m4\",\"type\":\"movie\",\"name\":\"Avengers: Infinity War\"},{\"id\":\"m5\",\"type\":\"movie\",\"name\":\"Black Panther\"},{\"id\":\"m6\",\"type\":\"movie\",\"name\":\"Captain America: Civil War\"},{\"id\":\"m7\",\"type\":\"movie\",\"name\":\"Captain America: The First Avenger\"},{\"id\":\"m8\",\"type\":\"movie\",\"name\":\"Captain America: The Winter Soldier\"},{\"id\":\"m9\",\"type\":\"movie\",\"name\":\"Captain Marvel\"},{\"id\":\"m10\",\"type\":\"movie\",\"name\":\"Doctor Strange\"},{\"id\":\"m11\",\"type\":\"movie\",\"name\":\"Guardians of the Galaxy\"},{\"id\":\"m12\",\"type\":\"movie\",\"name\":\"Guardians of the Galaxy Vol. 2\"},{\"id\":\"m13\",\"type\":\"movie\",\"name\":\"Guardians of the Galaxy Vol. 3\"},{\"id\":\"m14\",\"type\":\"movie\",\"name\":\"Iron Man\"},{\"id\":\"m15\",\"type\":\"movie\",\"name\":\"Iron Man 2\"},{\"id\":\"m16\",\"type\":\"movie\",\"name\":\"Iron Man 3\"},{\"id\":\"m17\",\"type\":\"movie\",\"name\":\"Spider-Man: Far From Home\"},{\"id\":\"m18\",\"type\":\"movie\",\"name\":\"Spider-Man: Homecoming\"},{\"id\":\"m19\",\"type\":\"movie\",\"name\":\"The Avengers\"},{\"id\":\"m20\",\"type\":\"movie\",\"name\":\"The Incredible Hulk\"},{\"id\":\"m21\",\"type\":\"movie\",\"name\":\"Thor\"},{\"id\":\"m22\",\"type\":\"movie\",\"name\":\"Thor: Ragnarok\"},{\"id\":\"m23\",\"type\":\"movie\",\"name\":\"Thor: The Dark World\"}]' AS jsonData\n",
    "\n",
    "WITH apoc.convert.fromJsonList(jsonData) AS nodes\n",
    "UNWIND nodes AS node \n",
    "WITH node\n",
    "WHERE node.type = \"movie\"\n",
    "MERGE (m:Movie {id: node.id, title: node.name}) \n",
    "\"\"\"\n",
    "\n",
    "driver.execute_query(query)"
   ]
  },
  {
   "cell_type": "code",
   "execution_count": 16,
   "id": "ef9f97c7-375b-422a-a4f8-35ab2e226aae",
   "metadata": {},
   "outputs": [
    {
     "data": {
      "text/plain": [
       "EagerResult(records=[], summary=<neo4j._work.summary.ResultSummary object at 0x7fa3dd1e5c50>, keys=[])"
      ]
     },
     "execution_count": 16,
     "metadata": {},
     "output_type": "execute_result"
    }
   ],
   "source": [
    "query = \"\"\"\n",
    "WITH '[{\"source\":\"h0\",\"target\":\"m0\"},{\"source\":\"h0\",\"target\":\"m6\"},{\"source\":\"h0\",\"target\":\"m18\"},{\"source\":\"h0\",\"target\":\"m1\"},{\"source\":\"h0\",\"target\":\"m2\"},{\"source\":\"h1\",\"target\":\"m6\"},{\"source\":\"h1\",\"target\":\"m5\"},{\"source\":\"h1\",\"target\":\"m4\"},{\"source\":\"h1\",\"target\":\"m2\"},{\"source\":\"h2\",\"target\":\"m15\"},{\"source\":\"h2\",\"target\":\"m19\"},{\"source\":\"h2\",\"target\":\"m8\"},{\"source\":\"h2\",\"target\":\"m3\"},{\"source\":\"h2\",\"target\":\"m6\"},{\"source\":\"h2\",\"target\":\"m4\"},{\"source\":\"h2\",\"target\":\"m2\"},{\"source\":\"h3\",\"target\":\"m7\"},{\"source\":\"h3\",\"target\":\"m19\"},{\"source\":\"h3\",\"target\":\"m8\"},{\"source\":\"h3\",\"target\":\"m3\"},{\"source\":\"h3\",\"target\":\"m0\"},{\"source\":\"h3\",\"target\":\"m6\"},{\"source\":\"h3\",\"target\":\"m18\"},{\"source\":\"h3\",\"target\":\"m4\"},{\"source\":\"h3\",\"target\":\"m2\"},{\"source\":\"h4\",\"target\":\"m9\"},{\"source\":\"h4\",\"target\":\"m2\"},{\"source\":\"h5\",\"target\":\"m10\"},{\"source\":\"h5\",\"target\":\"m22\"},{\"source\":\"h5\",\"target\":\"m4\"},{\"source\":\"h5\",\"target\":\"m2\"},{\"source\":\"h6\",\"target\":\"m11\"},{\"source\":\"h6\",\"target\":\"m12\"},{\"source\":\"h6\",\"target\":\"m4\"},{\"source\":\"h6\",\"target\":\"m2\"},{\"source\":\"h6\",\"target\":\"m13\"},{\"source\":\"h7\",\"target\":\"m8\"},{\"source\":\"h7\",\"target\":\"m3\"},{\"source\":\"h7\",\"target\":\"m0\"},{\"source\":\"h7\",\"target\":\"m6\"},{\"source\":\"h7\",\"target\":\"m4\"},{\"source\":\"h7\",\"target\":\"m2\"},{\"source\":\"h8\",\"target\":\"m11\"},{\"source\":\"h8\",\"target\":\"m12\"},{\"source\":\"h8\",\"target\":\"m4\"},{\"source\":\"h8\",\"target\":\"m2\"},{\"source\":\"h9\",\"target\":\"m11\"},{\"source\":\"h9\",\"target\":\"m12\"},{\"source\":\"h9\",\"target\":\"m4\"},{\"source\":\"h9\",\"target\":\"m2\"},{\"source\":\"h9\",\"target\":\"m13\"},{\"source\":\"h10\",\"target\":\"m21\"},{\"source\":\"h10\",\"target\":\"m19\"},{\"source\":\"h10\",\"target\":\"m3\"},{\"source\":\"h10\",\"target\":\"m6\"},{\"source\":\"h10\",\"target\":\"m2\"},{\"source\":\"h11\",\"target\":\"m20\"},{\"source\":\"h11\",\"target\":\"m19\"},{\"source\":\"h11\",\"target\":\"m16\"},{\"source\":\"h11\",\"target\":\"m3\"},{\"source\":\"h11\",\"target\":\"m22\"},{\"source\":\"h11\",\"target\":\"m4\"},{\"source\":\"h11\",\"target\":\"m2\"},{\"source\":\"h12\",\"target\":\"m14\"},{\"source\":\"h12\",\"target\":\"m20\"},{\"source\":\"h12\",\"target\":\"m15\"},{\"source\":\"h12\",\"target\":\"m19\"},{\"source\":\"h12\",\"target\":\"m16\"},{\"source\":\"h12\",\"target\":\"m3\"},{\"source\":\"h12\",\"target\":\"m6\"},{\"source\":\"h12\",\"target\":\"m18\"},{\"source\":\"h12\",\"target\":\"m4\"},{\"source\":\"h12\",\"target\":\"m2\"},{\"source\":\"h13\",\"target\":\"m21\"},{\"source\":\"h13\",\"target\":\"m19\"},{\"source\":\"h13\",\"target\":\"m23\"},{\"source\":\"h13\",\"target\":\"m22\"},{\"source\":\"h13\",\"target\":\"m4\"},{\"source\":\"h13\",\"target\":\"m2\"},{\"source\":\"h14\",\"target\":\"m12\"},{\"source\":\"h14\",\"target\":\"m4\"},{\"source\":\"h14\",\"target\":\"m2\"},{\"source\":\"h14\",\"target\":\"m13\"},{\"source\":\"h15\",\"target\":\"m11\"},{\"source\":\"h15\",\"target\":\"m12\"},{\"source\":\"h15\",\"target\":\"m4\"},{\"source\":\"h15\",\"target\":\"m2\"},{\"source\":\"h16\",\"target\":\"m14\"},{\"source\":\"h16\",\"target\":\"m15\"},{\"source\":\"h16\",\"target\":\"m21\"},{\"source\":\"h16\",\"target\":\"m7\"},{\"source\":\"h16\",\"target\":\"m19\"},{\"source\":\"h16\",\"target\":\"m8\"},{\"source\":\"h16\",\"target\":\"m3\"},{\"source\":\"h16\",\"target\":\"m4\"},{\"source\":\"h16\",\"target\":\"m9\"},{\"source\":\"h16\",\"target\":\"m17\"},{\"source\":\"h17\",\"target\":\"m21\"},{\"source\":\"h17\",\"target\":\"m23\"},{\"source\":\"h17\",\"target\":\"m22\"},{\"source\":\"h18\",\"target\":\"m8\"},{\"source\":\"h18\",\"target\":\"m3\"},{\"source\":\"h19\",\"target\":\"m11\"},{\"source\":\"h19\",\"target\":\"m12\"},{\"source\":\"h19\",\"target\":\"m4\"},{\"source\":\"h19\",\"target\":\"m2\"},{\"source\":\"h19\",\"target\":\"m13\"},{\"source\":\"h20\",\"target\":\"m8\"},{\"source\":\"h20\",\"target\":\"m3\"},{\"source\":\"h20\",\"target\":\"m6\"},{\"source\":\"h20\",\"target\":\"m4\"},{\"source\":\"h20\",\"target\":\"m2\"},{\"source\":\"h21\",\"target\":\"m15\"},{\"source\":\"h21\",\"target\":\"m6\"},{\"source\":\"h21\",\"target\":\"m18\"},{\"source\":\"h21\",\"target\":\"m4\"},{\"source\":\"h21\",\"target\":\"m2\"},{\"source\":\"h21\",\"target\":\"m17\"},{\"source\":\"h22\",\"target\":\"m11\"},{\"source\":\"h22\",\"target\":\"m12\"},{\"source\":\"h22\",\"target\":\"m4\"},{\"source\":\"h22\",\"target\":\"m2\"},{\"source\":\"h22\",\"target\":\"m13\"},{\"source\":\"h23\",\"target\":\"m21\"},{\"source\":\"h23\",\"target\":\"m19\"},{\"source\":\"h23\",\"target\":\"m23\"},{\"source\":\"h23\",\"target\":\"m3\"},{\"source\":\"h23\",\"target\":\"m10\"},{\"source\":\"h23\",\"target\":\"m22\"},{\"source\":\"h23\",\"target\":\"m4\"},{\"source\":\"h23\",\"target\":\"m2\"},{\"source\":\"h24\",\"target\":\"m3\"},{\"source\":\"h24\",\"target\":\"m6\"},{\"source\":\"h24\",\"target\":\"m4\"},{\"source\":\"h24\",\"target\":\"m2\"},{\"source\":\"h25\",\"target\":\"m14\"},{\"source\":\"h25\",\"target\":\"m15\"},{\"source\":\"h25\",\"target\":\"m16\"},{\"source\":\"h25\",\"target\":\"m3\"},{\"source\":\"h25\",\"target\":\"m6\"},{\"source\":\"h25\",\"target\":\"m4\"},{\"source\":\"h25\",\"target\":\"m2\"},{\"source\":\"h26\",\"target\":\"m0\"},{\"source\":\"h26\",\"target\":\"m1\"},{\"source\":\"h26\",\"target\":\"m2\"},{\"source\":\"h27\",\"target\":\"m7\"},{\"source\":\"h27\",\"target\":\"m8\"},{\"source\":\"h27\",\"target\":\"m0\"},{\"source\":\"h27\",\"target\":\"m6\"},{\"source\":\"h27\",\"target\":\"m5\"},{\"source\":\"h27\",\"target\":\"m4\"},{\"source\":\"h27\",\"target\":\"m2\"}]' AS jsonData\n",
    "\n",
    "WITH apoc.convert.fromJsonList(jsonData) AS edges\n",
    "UNWIND edges AS edge \n",
    "MATCH (h:Hero {id: edge.source})\n",
    "MATCH (m:Movie {id:edge.target})\n",
    "MERGE (h)-[:APPEARED_IN]->(m);\n",
    "\"\"\"\n",
    "\n",
    "driver.execute_query(query)"
   ]
  },
  {
   "cell_type": "code",
   "execution_count": 17,
   "id": "3b39ce6a-c71b-47b3-9169-078edebde8b1",
   "metadata": {},
   "outputs": [
    {
     "data": {
      "text/plain": [
       "EagerResult(records=[], summary=<neo4j._work.summary.ResultSummary object at 0x7fa3dd1e7010>, keys=[])"
      ]
     },
     "execution_count": 17,
     "metadata": {},
     "output_type": "execute_result"
    }
   ],
   "source": [
    "query = \"\"\"\n",
    "WITH '{\"Captain America: The First Avenger\":1940,\"Captain Marvel\":1995,\"Iron Man\":2010,\"Iron Man 2\":2011,\"The Incredible Hulk\":2011,\"Thor\":2011,\"The Avengers\":2012,\"Iron Man 3\":2012,\"Thor: The Dark World\":2013,\"Captain America: The Winter Soldier\":2014,\"Guardians of the Galaxy\":2014,\"Guardians of the Galaxy Vol. 2\":2014,\"Avengers: Age of Ultron\":2015,\"Ant-Man\":2015,\"Captain America: Civil War\":2016,\"Doctor Strange\":2016,\"Black Panther\":2016,\"Spider-Man: Homecoming\":2016,\"Thor: Ragnarok\":2018,\"Ant-Man and the Wasp\":2018,\"Avengers: Infinity War\":2018,\"Avengers: Endgame\":2018,\"Spider-Man: Far From Home\":2019,\"Guardians of the Galaxy Vol. 3\":2020}' AS jsonData\n",
    "WITH apoc.convert.fromJsonMap(jsonData) AS movieData\n",
    "UNWIND keys(movieData) AS movieName\n",
    "MATCH (m:Movie {title: movieName})\n",
    "SET m.year = movieData[movieName]\n",
    "\n",
    "\"\"\"\n",
    "\n",
    "driver.execute_query(query)"
   ]
  },
  {
   "cell_type": "code",
   "execution_count": 18,
   "id": "888c4f32-964a-4f2b-92cf-81b55469bf47",
   "metadata": {},
   "outputs": [
    {
     "data": {
      "text/plain": [
       "EagerResult(records=[], summary=<neo4j._work.summary.ResultSummary object at 0x7fa3dd1f43d0>, keys=[])"
      ]
     },
     "execution_count": 18,
     "metadata": {},
     "output_type": "execute_result"
    }
   ],
   "source": [
    "query = \"\"\"\n",
    "WITH '{\"Captain America: The First Avenger\":\"Captain America\",\"Captain Marvel\":\"Other\",\"Iron Man\":\"Iron Man\",\"Iron Man 2\":\"Iron Man\",\"The Incredible Hulk\":\"Other\",\"Thor\":\"Thor\",\"The Avengers\":\"Avengers\",\"Iron Man 3\":\"Iron Man\",\"Thor: The Dark World\":\"Thor\",\"Captain America: The Winter Soldier\":\"Captain America\",\"Guardians of the Galaxy\":\"Guardians of the Galaxy\",\"Guardians of the Galaxy Vol. 2\":\"Guardians of the Galaxy\",\"Avengers: Age of Ultron\":\"Avengers\",\"Ant-Man\":\"Ant-Man\",\"Captain America: Civil War\":\"Captain America\",\"Doctor Strange\":\"Other\",\"Black Panther\":\"Other\",\"Spider-Man: Homecoming\":\"Spider-Man\",\"Thor: Ragnarok\":\"Thor\",\"Ant-Man and the Wasp\":\"Ant-Man\",\"Avengers: Infinity War\":\"Avengers\",\"Avengers: Endgame\":\"Avengers\",\"Spider-Man: Far From Home\":\"Spider-Man\",\"Guardians of the Galaxy Vol. 3\":\"Guardians of the Galaxy\",\"Thor: Love and Thunder\":\"Thor\",\"The Marvels\":\"Other\",\"Spider-Man: No Way Home\":\"Spider-Man\",\"Black Widow\":\"Other\",\"Ant-Man and the Wasp: Quantumania\":\"Ant-Man\"}' AS jsonData\n",
    "\n",
    "// Convert JSON dictionary to a map\n",
    "WITH apoc.convert.fromJsonMap(jsonData) AS movieData\n",
    "UNWIND keys(movieData) AS movieName\n",
    "\n",
    "// Step 2: Match the movie nodes by their name\n",
    "MATCH (m:Movie {title: movieName})\n",
    "\n",
    "// Step 3: Merge the series by name (to avoid multiple nodes for the same series name)\n",
    "MERGE (s:Series {name: movieData[movieName]})\n",
    "\n",
    "// Step 4: Create the relationship between the movie and the series\n",
    "MERGE (m)-[:PART_OF]->(s);\n",
    "\"\"\"\n",
    "\n",
    "driver.execute_query(query)"
   ]
  },
  {
   "cell_type": "code",
   "execution_count": null,
   "id": "ff25a749-37b1-4ac3-b825-f30ac1971b27",
   "metadata": {},
   "outputs": [],
   "source": []
  }
 ],
 "metadata": {
  "kernelspec": {
   "display_name": "Python 3 (ipykernel)",
   "language": "python",
   "name": "python3"
  },
  "language_info": {
   "codemirror_mode": {
    "name": "ipython",
    "version": 3
   },
   "file_extension": ".py",
   "mimetype": "text/x-python",
   "name": "python",
   "nbconvert_exporter": "python",
   "pygments_lexer": "ipython3",
   "version": "3.11.6"
  }
 },
 "nbformat": 4,
 "nbformat_minor": 5
}
