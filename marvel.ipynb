{
 "cells": [
  {
   "cell_type": "code",
   "execution_count": 55,
   "id": "ff21ddae-4f71-4131-b247-e044ebc2e203",
   "metadata": {},
   "outputs": [],
   "source": [
    "from yfiles_jupyter_graphs_for_neo4j import Neo4jGraphWidget\n",
    "from neo4j import GraphDatabase\n"
   ]
  },
  {
   "cell_type": "code",
   "execution_count": 59,
   "id": "d61b378f-a78b-4bfa-8b46-0758b008e52a",
   "metadata": {},
   "outputs": [],
   "source": [
    "NEO4J_URI      = \"neo4j://neo4j-apoc\" \n",
    "NEO4J_USERNAME = \"neo4j\"\n",
    "NEO4J_PASSWORD = \"neo4j\""
   ]
  },
  {
   "cell_type": "code",
   "execution_count": 60,
   "id": "34442f59-0d19-4f75-9a78-68b7ba6b3ee8",
   "metadata": {},
   "outputs": [],
   "source": [
    "driver = GraphDatabase.driver(uri = NEO4J_URI, auth = (NEO4J_USERNAME, NEO4J_PASSWORD))"
   ]
  },
  {
   "cell_type": "code",
   "execution_count": 117,
   "id": "c80cc323-5cf5-4382-a826-2abb9935e34e",
   "metadata": {},
   "outputs": [
    {
     "data": {
      "application/vnd.jupyter.widget-view+json": {
       "model_id": "6064d17e53db438ab01172c1cd178c8f",
       "version_major": 2,
       "version_minor": 0
      },
      "text/plain": [
       "GraphWidget(layout=Layout(height='500px', width='100%'))"
      ]
     },
     "metadata": {},
     "output_type": "display_data"
    }
   ],
   "source": [
    "g = Neo4jGraphWidget(driver)\n",
    "\n",
    "g.show_cypher(\n",
    "\"\"\"\n",
    "MATCH (h:Hero)-[APPEARED_IN]->(m:Movie)-[PART_OF]->(s:Series {name:'Iron Man'}) RETURN * LIMIT 8\n",
    "\"\"\"\n",
    ")"
   ]
  },
  {
   "cell_type": "code",
   "execution_count": 118,
   "id": "38e61d6a-887f-404c-b786-1693cb4b40ce",
   "metadata": {},
   "outputs": [
    {
     "data": {
      "application/vnd.jupyter.widget-view+json": {
       "model_id": "36b7817f691a4894b1968129f10e40cb",
       "version_major": 2,
       "version_minor": 0
      },
      "text/plain": [
       "GraphWidget(layout=Layout(height='500px', width='100%'))"
      ]
     },
     "metadata": {},
     "output_type": "display_data"
    }
   ],
   "source": [
    "g = Neo4jGraphWidget(driver)\n",
    "g.set_autocomplete_relationships(True)\n",
    "g.add_node_configuration('Hero', text='name', size=(100,80), styles= {'shape': 'round-rectangle', 'color':'gold'})\n",
    "g.add_node_configuration('Movie', text=lambda node : {\n",
    "        'text': 'Title: ' + node['properties']['title'] + '\\nYear: ' + str(node['properties']['year']), \n",
    "        'backgroundColor': 'rgba(0,0,0,0.7)', \n",
    "        'fontSize': 18, \n",
    "        'color': '#FFFFFF', \n",
    "        'position': 'west', \n",
    "        'maximumWidth': 120, \n",
    "        'wrapping': 'word', \n",
    "        'textAlignment': 'left'\n",
    "    })  \n",
    "g.add_relationship_configuration('APPEARED_IN', text='appears in', color=\"blue\", thickness_factor=2)\n",
    "g.add_relationship_configuration('PART_OF', text=lambda edge: 'part of', color=lambda edge: '#AC94F4')\n",
    "\n",
    "g.show_cypher(\"MATCH (h:Hero)-[APPEARED_IN]->(m:Movie)-[PART_OF]->(s:Series {name:'Iron Man'}) RETURN * LIMIT 6\")"
   ]
  },
  {
   "cell_type": "code",
   "execution_count": 119,
   "id": "91c9505e-d4a8-46b4-ba22-a2f2aad52ae2",
   "metadata": {},
   "outputs": [
    {
     "data": {
      "application/vnd.jupyter.widget-view+json": {
       "model_id": "3f056fa2fe864915ad603a27e6fd0f80",
       "version_major": 2,
       "version_minor": 0
      },
      "text/plain": [
       "GraphWidget(layout=Layout(height='500px', width='100%'))"
      ]
     },
     "metadata": {},
     "output_type": "display_data"
    }
   ],
   "source": [
    "g = Neo4jGraphWidget(driver)\n",
    "g.set_autocomplete_relationships(True)\n",
    "g.add_node_configuration('Hero', text='name', size=(100,80), styles= {'shape': 'round-rectangle', 'color':'gold'}, parent_configuration= {'text': 'Heroes', 'color': '#ddaa00'})\n",
    "g.add_node_configuration('Movie', text= lambda node : {\n",
    "        'text': 'Title: ' + node['properties']['title'] + '\\nYear: ' + str(node['properties']['year']), \n",
    "        'backgroundColor': 'rgba(0,0,0,0.7)', \n",
    "        'fontSize': 20, \n",
    "        'color': '#FFFFFF', \n",
    "        'position': 'west', \n",
    "        'maximumWidth': 130, \n",
    "        'wrapping': 'word', \n",
    "        'textAlignment': 'left'\n",
    "    })  \n",
    "g.add_relationship_configuration('APPEARED_IN', text='appears in', color=\"blue\", thickness_factor=2)\n",
    "#g.add_parent_relationship_configuration('PART_OF')\n",
    "\n",
    "g.show_cypher(\"MATCH (h:Hero)-[APPEARED_IN]->(m:Movie)-[PART_OF]->(s:Series {name:'Iron Man'}) RETURN * LIMIT 6\")"
   ]
  },
  {
   "cell_type": "code",
   "execution_count": 120,
   "id": "080f2699-f7cb-4359-840f-16fe59ba2e49",
   "metadata": {},
   "outputs": [
    {
     "data": {
      "application/vnd.jupyter.widget-view+json": {
       "model_id": "d4905290e5a944eb924aaaccc7a45cc4",
       "version_major": 2,
       "version_minor": 0
      },
      "text/plain": [
       "GraphWidget(layout=Layout(height='500px', width='100%'))"
      ]
     },
     "metadata": {},
     "output_type": "display_data"
    }
   ],
   "source": [
    "g = Neo4jGraphWidget(driver)\n",
    "g.set_autocomplete_relationships(True)\n",
    "g.add_node_configuration('Hero', text='name', size=(100,80), styles= {'shape': 'round-rectangle', 'color':'gold'}, parent_configuration= {'text': 'Heroes', 'color': '#ddaa00'})\n",
    "g.add_node_configuration('Movie', text= lambda node : {\n",
    "        'text': 'Title: ' + node['properties']['title'] + '\\nYear: ' + str(node['properties']['year']), \n",
    "        'backgroundColor': 'rgba(0,0,0,0.7)', \n",
    "        'fontSize': 20, \n",
    "        'color': '#FFFFFF', \n",
    "        'position': 'west', \n",
    "        'maximumWidth': 130, \n",
    "        'wrapping': 'word', \n",
    "        'textAlignment': 'left'\n",
    "    })  \n",
    "g.add_relationship_configuration('APPEARED_IN', text='appears in', color=\"blue\", thickness_factor=2)\n",
    "g.add_parent_relationship_configuration('PART_OF')\n",
    "\n",
    "g.show_cypher(\"MATCH (h:Hero)-[APPEARED_IN]->(m:Movie)-[PART_OF]->(s:Series {name:'Iron Man'}) RETURN * LIMIT 6\")"
   ]
  },
  {
   "cell_type": "code",
   "execution_count": 122,
   "id": "3c41076c-6b95-403a-b399-2078071eac97",
   "metadata": {},
   "outputs": [
    {
     "data": {
      "application/vnd.jupyter.widget-view+json": {
       "model_id": "5e2f81c6148f4f47ab2d0e3c2eb540d6",
       "version_major": 2,
       "version_minor": 0
      },
      "text/plain": [
       "GraphWidget(layout=Layout(height='500px', width='100%'))"
      ]
     },
     "metadata": {},
     "output_type": "display_data"
    }
   ],
   "source": [
    "import random\n",
    "\n",
    "g = Neo4jGraphWidget(driver)\n",
    "g.set_autocomplete_relationships(True)\n",
    "\n",
    "max_amount = 100\n",
    "min_amount = 0\n",
    "\n",
    "def heat_mapping(element):\n",
    "    if 'amount' in element['properties']:\n",
    "        amount = element['properties']['amount']\n",
    "        normalized_value = (amount - min_amount) / (max_amount - min_amount)\n",
    "        return normalized_value\n",
    "    else:\n",
    "        return random.randint(min_amount, max_amount) / max_amount\n",
    "\n",
    "g.add_node_configuration('Hero', text='name', size=(100,80), styles= {'shape': 'ellipse', 'color':'gold'}, heat=heat_mapping)\n",
    "g.add_node_configuration('Movie', text= lambda node : {\n",
    "        'text': 'Title: ' + node['properties']['title'] + '\\nYear: ' + str(node['properties']['year']), \n",
    "        'backgroundColor': 'rgba(0,0,0,0.7)', \n",
    "        'fontSize': 20, \n",
    "        'color': '#FFFFFF', \n",
    "        'position': 'west', \n",
    "        'maximumWidth': 130, \n",
    "        'wrapping': 'word', \n",
    "        'textAlignment': 'left'\n",
    "    })  \n",
    "g.add_relationship_configuration('APPEARED_IN', text='appears in', color=\"blue\", thickness_factor=2)\n",
    "g.add_parent_relationship_configuration('PART_OF')\n",
    "\n",
    "g.show_cypher(\"MATCH (h:Hero)-[APPEARED_IN]->(m:Movie)-[PART_OF]->(s:Series {name:'Iron Man'}) RETURN * LIMIT 20\")"
   ]
  },
  {
   "cell_type": "code",
   "execution_count": 125,
   "id": "a782a37f-b0a1-41ce-a6ff-27aa66be192d",
   "metadata": {},
   "outputs": [
    {
     "data": {
      "application/vnd.jupyter.widget-view+json": {
       "model_id": "f7b8aa80b8ea495d864891737237d4fe",
       "version_major": 2,
       "version_minor": 0
      },
      "text/plain": [
       "GraphWidget(layout=Layout(height='500px', width='100%'))"
      ]
     },
     "metadata": {},
     "output_type": "display_data"
    }
   ],
   "source": [
    "import random\n",
    "\n",
    "g = Neo4jGraphWidget(driver)\n",
    "\n",
    "max_amount = 100\n",
    "min_amount = 0\n",
    "\n",
    "def heat_mapping(element):\n",
    "    if 'amount' in element['properties']:\n",
    "        amount = element['properties']['amount']\n",
    "        normalized_value = (amount - min_amount) / (max_amount - min_amount)\n",
    "        return normalized_value\n",
    "    else:\n",
    "        return random.randint(min_amount, max_amount) / max_amount\n",
    "\n",
    "def node_coordinate_mapping(node):\n",
    "    return (random.uniform(48.2,48.3),random.uniform(16.2,16.55))\n",
    "\n",
    "g.add_relationship_configuration('CO_APPEARED_IN', text=lambda rel: 'co-starred in ' + rel[\"properties\"][\"movie\"], color=\"blue\", thickness_factor=2)\n",
    "\n",
    "g.add_node_configuration('Hero', text='name', size=(100,80), styles= {'shape': 'round-rectangle', 'color':'gold'}, heat=heat_mapping, coordinate=node_coordinate_mapping)\n",
    "\n",
    "g.show_cypher(\"\"\"\n",
    "MATCH (:Hero {name:\"Odin\"})-[APPEARED_IN]->(m:Movie)\n",
    "WITH m\n",
    "MATCH (h:Hero)-[a1:APPEARED_IN]->(m)<-[a2:APPEARED_IN]-(h2:Hero) WHERE h.id < h2.id\n",
    "RETURN h, h2, apoc.create.vRelationship(h, 'CO_APPEARED_IN', {movie: m.title}, h2) as vrel\n",
    "\"\"\")"
   ]
  },
  {
   "cell_type": "code",
   "execution_count": 124,
   "id": "6dcac630-0456-43de-acc6-4185c9bb4169",
   "metadata": {},
   "outputs": [
    {
     "data": {
      "application/vnd.jupyter.widget-view+json": {
       "model_id": "479108855e79493f944cc7971b9b263a",
       "version_major": 2,
       "version_minor": 0
      },
      "text/plain": [
       "GraphWidget(layout=Layout(height='500px', width='100%'))"
      ]
     },
     "metadata": {},
     "output_type": "display_data"
    }
   ],
   "source": [
    "g = Neo4jGraphWidget(driver)\n",
    "g.add_node_configuration('Movie', text= lambda node : {\n",
    "        'text': 'Title: ' + node['properties']['title'] + '\\nYear: ' + str(node['properties']['year']), \n",
    "        'backgroundColor': 'rgba(0,0,0,0.7)', \n",
    "        'fontSize': 20, \n",
    "        'color': '#FFFFFF', \n",
    "        'position': 'west', \n",
    "        'maximumWidth': 230, \n",
    "        'wrapping': 'word', \n",
    "        'textAlignment': 'left'\n",
    "    })\n",
    "g.add_relationship_configuration('PART_OF_STORYLINE', text=\"character\", color=\"blue\", thickness_factor=2)\n",
    "\n",
    "\n",
    "g.show_cypher(\"\"\"\n",
    "// Step 1: Match characters and their movies from the Avenger series, and order movies by year\n",
    "MATCH (c:Hero)-[p:APPEARED_IN]->(m:Movie)-[PART_OF]->(s:Series {name:'Avengers'})\n",
    "WITH c, m\n",
    "ORDER BY m.year ASC\n",
    "\n",
    "// Step 2: Collect the movies per character and create pairs\n",
    "WITH c, collect(m) AS movies\n",
    "\n",
    "// Step 3: Iterate through each pair of consecutive movies for each character\n",
    "UNWIND range(0, size(movies)-2) AS i\n",
    "WITH c, movies[i] AS m1, movies[i+1] AS m2\n",
    "\n",
    "// Step 4: Create a virtual relationship between consecutive movies\n",
    "RETURN m1,m2,\n",
    "       apoc.create.vRelationship(m1, 'PART_OF_STORYLINE', {character: c.name}, m2) AS virtualRel\n",
    "\"\"\")"
   ]
  }
 ],
 "metadata": {
  "kernelspec": {
   "display_name": "Python 3 (ipykernel)",
   "language": "python",
   "name": "python3"
  },
  "language_info": {
   "codemirror_mode": {
    "name": "ipython",
    "version": 3
   },
   "file_extension": ".py",
   "mimetype": "text/x-python",
   "name": "python",
   "nbconvert_exporter": "python",
   "pygments_lexer": "ipython3",
   "version": "3.11.6"
  }
 },
 "nbformat": 4,
 "nbformat_minor": 5
}
